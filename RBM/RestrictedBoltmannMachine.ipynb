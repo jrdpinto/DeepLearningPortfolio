{
 "cells": [
  {
   "cell_type": "markdown",
   "id": "56f94d09-9c30-465c-be6f-2e1ffbed5884",
   "metadata": {
    "colab_type": "text",
    "id": "lP6JLo1tGNBg",
    "tags": []
   },
   "source": [
    "# Restricted Boltzmann Machine"
   ]
  },
  {
   "cell_type": "markdown",
   "id": "7d1187e5-b2bc-4613-99b3-3743125bad09",
   "metadata": {},
   "source": [
    "A recommender system for movies, built using a Restricted Boltzmann Machine (RBM) that is trained on the [MovieLens](https://grouplens.org/datasets/movielens/) dataset. This model was built as part of a workshop for a Udemy course called [Deep Learning A-Z](https://www.udemy.com/course/deeplearning/learn/lecture/6895718). "
   ]
  },
  {
   "cell_type": "markdown",
   "id": "618706a2-3cfd-4aef-8530-0d4f4fe6576c",
   "metadata": {
    "tags": []
   },
   "source": [
    "<br></br>\n",
    "***\n",
    "## Libraries"
   ]
  },
  {
   "cell_type": "code",
   "execution_count": 3,
   "id": "ab5b8153-f592-4cd3-8571-9ada514278ed",
   "metadata": {
    "tags": []
   },
   "outputs": [],
   "source": [
    "import numpy as np\n",
    "import pandas as pd\n",
    "import torch\n",
    "import torch.nn as nn\n",
    "import torch.nn.parallel\n",
    "import torch.optim as optim\n",
    "import torch.utils.data\n",
    "from torch.autograd import Variable"
   ]
  },
  {
   "cell_type": "markdown",
   "id": "90e31e92-c1ac-40ec-bd68-2ac453e05663",
   "metadata": {
    "tags": []
   },
   "source": [
    "<br></br>\n",
    "***\n",
    "## Data Preprocessing"
   ]
  },
  {
   "cell_type": "code",
   "execution_count": 4,
   "id": "69b64ddb-762d-476a-9298-82eb2eb9350f",
   "metadata": {
    "tags": []
   },
   "outputs": [],
   "source": [
    "# Dataset\n",
    "movies = pd.read_csv('ml-1m/movies.dat',\n",
    "                     sep = '::',                # Data separated by '::'\n",
    "                     header = None,             # No column headers\n",
    "                     engine = 'python',         # Use python's built-in CSV parser\n",
    "                     encoding = 'latin-1')      # Character encoding\n",
    "users = pd.read_csv('ml-1m/users.dat', sep = '::', header = None, engine = 'python', encoding = 'latin-1')\n",
    "ratings = pd.read_csv('ml-1m/ratings.dat', sep = '::', header = None, engine = 'python', encoding = 'latin-1')\n",
    "\n",
    "# Training data\n",
    "trainingSet = pd.read_csv('ml-100k/u1.base', delimiter = '\\t')\n",
    "trainingSet = np.array(trainingSet, dtype = 'int')\n",
    "testSet = pd.read_csv('ml-100k/u1.test', delimiter = '\\t')\n",
    "testSet = np.array(testSet, dtype = 'int')"
   ]
  },
  {
   "cell_type": "code",
   "execution_count": 5,
   "id": "54f82028-5778-4922-b83d-7e4c7639d30b",
   "metadata": {
    "tags": []
   },
   "outputs": [
    {
     "name": "stdout",
     "output_type": "stream",
     "text": [
      "Number of users:  943\n",
      "Number of movies:  1682\n"
     ]
    }
   ],
   "source": [
    "# Determine the number of users and movies.\n",
    "# Find the max id for users/movies in both the training set and the test set.\n",
    "numUsers = int(max(max(trainingSet[:,0]), max(testSet[:,0])))   # Users are listed in the 1st column\n",
    "numMovies = int(max(max(trainingSet[:,1]), max(testSet[:,1])))  # Movies are listed in the 2cnd column\n",
    "print(\"Number of users: \", numUsers)\n",
    "print(\"Number of movies: \", numMovies)\n",
    "\n",
    "# Convert the data into a grid of users and their ratings for each movie\n",
    "def convert(data):\n",
    "    newData = []\n",
    "    for idUsers in range(1, numUsers + 1):\n",
    "        idMovies = data[:,1][data[:,0] == idUsers]\n",
    "        idRatings = data[:,2][data[:,0] == idUsers]\n",
    "        ratings = np.zeros(numMovies)\n",
    "        ratings[idMovies - 1] = idRatings\n",
    "        newData.append(list(ratings))\n",
    "    return newData\n",
    "\n",
    "trainingSet = convert(trainingSet)\n",
    "testSet = convert(testSet)\n",
    "\n",
    "trainingSet = torch.FloatTensor(trainingSet)\n",
    "testSet = torch.FloatTensor(testSet)\n",
    "\n",
    "# Convert ratings to binary values (0:Disliked 1:Liked)\n",
    "# This step is necessary as the trained model will only suggest which movies a person may like and\n",
    "# not how much they may like each movie\n",
    "trainingSet[trainingSet == 0] = -1\n",
    "trainingSet[trainingSet == 1] = 0\n",
    "trainingSet[trainingSet == 2] = 0\n",
    "trainingSet[trainingSet >= 3] = 1\n",
    "testSet[testSet == 0] = -1\n",
    "testSet[testSet == 1] = 0\n",
    "testSet[testSet == 2] = 0\n",
    "testSet[testSet >= 3] = 1"
   ]
  },
  {
   "cell_type": "markdown",
   "id": "f031a1b4-24de-4604-bed8-5cf5917fce45",
   "metadata": {
    "tags": []
   },
   "source": [
    "<br></br>\n",
    "***\n",
    "## RBM Architecture"
   ]
  },
  {
   "cell_type": "markdown",
   "id": "6bdb0405-a15a-4ace-a764-8a20e629e5e3",
   "metadata": {},
   "source": [
    "This model utilises a Bernoulli RBM - a type of RBM where both the visible and hidden units are binary, meaning that their activation states can take on values of either 0 or 1. Bernoulli RBMs are commonly used in modeling binary data, such as binary images, binary text data, or binary feature vectors.\n"
   ]
  },
  {
   "cell_type": "code",
   "execution_count": 6,
   "id": "52e781ee-b7f7-47f6-90d5-cc1cc2f464d0",
   "metadata": {
    "tags": []
   },
   "outputs": [],
   "source": [
    "class RBM():\n",
    "    # nv : Number of visible nodes\n",
    "    # nh : Number of hidden nodes\n",
    "    def __init__(self, nv, nh):\n",
    "        # Randomly initialise tensor of size, nh x nv\n",
    "        self.W = torch.randn(nh, nv)\n",
    "        \n",
    "        # Randomly initialise bias of visible nodes, given hidden nodes\n",
    "        # NOTE: 2d tensor. 1st dimension is the batch.\n",
    "        self.a = torch.randn(1, nh)\n",
    "        \n",
    "        # Randomly initialise bias of hidden nodes, given visible nodes\n",
    "        self.b = torch.randn(1, nv)\n",
    "    \n",
    "    def sampleHiddenNodes(self, x):\n",
    "        # Product of weights x neurons\n",
    "        wx = torch.mm(x, self.W.t())\n",
    "        \n",
    "        # Add bias\n",
    "        activation = wx + self.a.expand_as(wx)\n",
    "        \n",
    "        probabilityHGivenV = torch.sigmoid(activation)\n",
    "        \n",
    "        return probabilityHGivenV, torch.bernoulli(probabilityHGivenV)\n",
    "    \n",
    "    def sampleVisibleNodes(self, y):\n",
    "        # Product of weights x neurons\n",
    "        wy = torch.mm(y, self.W)\n",
    "        \n",
    "        # Add bias\n",
    "        activation = wy + self.b.expand_as(wy)\n",
    "        \n",
    "        probabilityVGivenH = torch.sigmoid(activation)\n",
    "        \n",
    "        return probabilityVGivenH, torch.bernoulli(probabilityVGivenH)\n",
    "    \n",
    "    # Contrastive divergence\n",
    "    # v0: Input vector of movie ratings for a user\n",
    "    # vk: Visible nodes obtained after 'k' iterations\n",
    "    # ph0: Vector of probabilities\n",
    "    # phk: Probablities of hidden nodes after 'k' iterations\n",
    "    def train(self, v0, vk, ph0, phk):\n",
    "        self.W += (torch.mm(v0.t(), ph0) - torch.mm(vk.t(), phk)).t()\n",
    "        self.b += torch.sum((v0 - vk), 0)\n",
    "        self.a += torch.sum((ph0 - phk), 0)\n",
    "        "
   ]
  },
  {
   "cell_type": "markdown",
   "id": "9f0a7274-2449-4dd0-ab2a-953bebdda85d",
   "metadata": {
    "tags": []
   },
   "source": [
    "<br></br>\n",
    "***\n",
    "## Training"
   ]
  },
  {
   "cell_type": "code",
   "execution_count": 10,
   "id": "b7190b23-4e0c-4452-91ef-1fc3cdf28b84",
   "metadata": {
    "tags": []
   },
   "outputs": [
    {
     "name": "stdout",
     "output_type": "stream",
     "text": [
      "epoch: 1 loss: tensor(0.3646)\n",
      "epoch: 2 loss: tensor(0.2548)\n",
      "epoch: 3 loss: tensor(0.2396)\n",
      "epoch: 4 loss: tensor(0.2535)\n",
      "epoch: 5 loss: tensor(0.2502)\n",
      "epoch: 6 loss: tensor(0.2457)\n",
      "epoch: 7 loss: tensor(0.2493)\n",
      "epoch: 8 loss: tensor(0.2495)\n",
      "epoch: 9 loss: tensor(0.2497)\n",
      "epoch: 10 loss: tensor(0.2442)\n",
      "test loss: tensor(0.2672)\n"
     ]
    }
   ],
   "source": [
    "nv = len(trainingSet[0])\n",
    "nh = 100\n",
    "batchSize = 100\n",
    "rbm = RBM(nv, nh)\n",
    "\n",
    "# Training the RBM\n",
    "nbEpoch = 10\n",
    "for epoch in range(1, nbEpoch + 1):\n",
    "    trainLoss = 0\n",
    "    s = 0.\n",
    "    \n",
    "    for idUser in range(0, numUsers - batchSize, batchSize):\n",
    "        vk = trainingSet[idUser:idUser+batchSize]\n",
    "        v0 = trainingSet[idUser:idUser+batchSize]\n",
    "        ph0,_ = rbm.sampleHiddenNodes(v0)\n",
    "        \n",
    "        for k in range(10):\n",
    "            _,hk = rbm.sampleHiddenNodes(vk)\n",
    "            _,vk = rbm.sampleVisibleNodes(hk)\n",
    "            vk[v0<0] = v0[v0<0]\n",
    "            \n",
    "        phk,_ = rbm.sampleHiddenNodes(vk)\n",
    "        rbm.train(v0, vk, ph0, phk)\n",
    "        trainLoss += torch.mean(torch.abs(v0[v0>=0] - vk[v0>=0]))\n",
    "        s += 1.\n",
    "        \n",
    "    print('epoch: '+str(epoch)+' loss: '+str(trainLoss/s))\n",
    "\n",
    "# Testing the RBM\n",
    "testLoss = 0\n",
    "s = 0.\n",
    "\n",
    "for idUser in range(numUsers):\n",
    "    v = trainingSet[idUser:idUser+1]\n",
    "    vt = testSet[idUser:idUser+1]\n",
    "    \n",
    "    if len(vt[vt>=0]) > 0:\n",
    "        _,h = rbm.sampleHiddenNodes(v)\n",
    "        _,v = rbm.sampleVisibleNodes(h)\n",
    "        testLoss += torch.mean(torch.abs(vt[vt>=0] - v[vt>=0]))\n",
    "        s += 1.\n",
    "        \n",
    "print('test loss: '+str(testLoss/s))"
   ]
  },
  {
   "cell_type": "code",
   "execution_count": null,
   "id": "5c13679d-e60d-472e-8df3-150fc9edef48",
   "metadata": {},
   "outputs": [],
   "source": []
  }
 ],
 "metadata": {
  "kernelspec": {
   "display_name": "Python 3 (ipykernel)",
   "language": "python",
   "name": "python3"
  },
  "language_info": {
   "codemirror_mode": {
    "name": "ipython",
    "version": 3
   },
   "file_extension": ".py",
   "mimetype": "text/x-python",
   "name": "python",
   "nbconvert_exporter": "python",
   "pygments_lexer": "ipython3",
   "version": "3.10.13"
  }
 },
 "nbformat": 4,
 "nbformat_minor": 5
}
