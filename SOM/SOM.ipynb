{
 "cells": [
  {
   "cell_type": "markdown",
   "id": "d27444b1-344b-4d77-8a88-181882d61bb6",
   "metadata": {
    "colab_type": "text",
    "id": "lP6JLo1tGNBg",
    "tags": []
   },
   "source": [
    "# Self Organising Map (SOM) - Credit Card Fraud Detection"
   ]
  },
  {
   "cell_type": "markdown",
   "id": "8ad9f9db-149d-4d23-87b7-0f2cd57428a4",
   "metadata": {},
   "source": [
    "A SOM model built using data from a course on Udemy called [Deep Learning A-Z](https://www.udemy.com/course/deeplearning/learn/lecture/6744454#overview). The model uses the Statlog (Australian Credit Approval) dataset obtained from the [UCI Machine Learning Repository](https://archive.ics.uci.edu/dataset/143/statlog+australian+credit+approval) which contains a list of credit card applications that were approved and rejected.\n",
    "\n",
    "The aim of this model is to build a clustered map of credit card applications based on features in the dataset. The outliers in this map may help to identify the traits of fraudulent applications."
   ]
  },
  {
   "cell_type": "markdown",
   "id": "545f955d-30db-498d-b54d-c31f6b71bec9",
   "metadata": {
    "tags": []
   },
   "source": [
    "<br></br>\n",
    "***\n",
    "## Libraries"
   ]
  },
  {
   "cell_type": "code",
   "execution_count": 17,
   "id": "92725e95-5c8f-4c55-949a-8bdb95fcda9f",
   "metadata": {
    "tags": []
   },
   "outputs": [
    {
     "name": "stdout",
     "output_type": "stream",
     "text": [
      "Requirement already satisfied: minisom in d:\\users\\jarry\\anaconda3\\lib\\site-packages (2.3.1)\n"
     ]
    }
   ],
   "source": [
    "import numpy as np\n",
    "import matplotlib.pyplot as plt\n",
    "import pandas as pd\n",
    "\n",
    "from sklearn.preprocessing import MinMaxScaler\n",
    "\n",
    "# Use the minisom library to build the SOM (Source: https://github.com/JustGlowing/minisom?tab=readme-ov-file)\n",
    "!pip install minisom\n",
    "from minisom import MiniSom\n",
    "\n",
    "from pylab import bone, pcolor, colorbar, plot, show"
   ]
  },
  {
   "cell_type": "markdown",
   "id": "635e679b-e6c7-4eea-99f9-c40cfac91724",
   "metadata": {},
   "source": [
    "<br></br>\n",
    "***\n",
    "## Data Preprocessing"
   ]
  },
  {
   "cell_type": "code",
   "execution_count": 18,
   "id": "c869bd37-7f99-4787-af97-06f66ad1fac5",
   "metadata": {
    "tags": []
   },
   "outputs": [
    {
     "name": "stdout",
     "output_type": "stream",
     "text": [
      "The 'Class' column indicates which applications were accepted (1) or rejected (0)\n",
      "     CustomerID  A1     A2      A3  A4  A5  A6     A7  A8  A9  A10  A11  A12  \\\n",
      "0      15776156   1  22.08  11.460   2   4   4  1.585   0   0    0    1    2   \n",
      "1      15739548   0  22.67   7.000   2   8   4  0.165   0   0    0    0    2   \n",
      "2      15662854   0  29.58   1.750   1   4   4  1.250   0   0    0    1    2   \n",
      "3      15687688   0  21.67  11.500   1   5   3  0.000   1   1   11    1    2   \n",
      "4      15715750   1  20.17   8.170   2   6   4  1.960   1   1   14    0    2   \n",
      "..          ...  ..    ...     ...  ..  ..  ..    ...  ..  ..  ...  ...  ...   \n",
      "685    15808223   1  31.57  10.500   2  14   4  6.500   1   0    0    0    2   \n",
      "686    15769980   1  20.67   0.415   2   8   4  0.125   0   0    0    0    2   \n",
      "687    15675450   0  18.83   9.540   2   6   4  0.085   1   0    0    0    2   \n",
      "688    15776494   0  27.42  14.500   2  14   8  3.085   1   1    1    0    2   \n",
      "689    15592412   1  41.00   0.040   2  10   4  0.040   0   1    1    0    1   \n",
      "\n",
      "     A13   A14  Class  \n",
      "0    100  1213      0  \n",
      "1    160     1      0  \n",
      "2    280     1      0  \n",
      "3      0     1      1  \n",
      "4     60   159      1  \n",
      "..   ...   ...    ...  \n",
      "685    0     1      1  \n",
      "686    0    45      0  \n",
      "687  100     1      1  \n",
      "688  120    12      1  \n",
      "689  560     1      1  \n",
      "\n",
      "[690 rows x 16 columns]\n",
      "[[1.5776156e+07 1.0000000e+00 2.2080000e+01 ... 2.0000000e+00\n",
      "  1.0000000e+02 1.2130000e+03]\n",
      " [1.5739548e+07 0.0000000e+00 2.2670000e+01 ... 2.0000000e+00\n",
      "  1.6000000e+02 1.0000000e+00]\n",
      " [1.5662854e+07 0.0000000e+00 2.9580000e+01 ... 2.0000000e+00\n",
      "  2.8000000e+02 1.0000000e+00]\n",
      " ...\n",
      " [1.5675450e+07 0.0000000e+00 1.8830000e+01 ... 2.0000000e+00\n",
      "  1.0000000e+02 1.0000000e+00]\n",
      " [1.5776494e+07 0.0000000e+00 2.7420000e+01 ... 2.0000000e+00\n",
      "  1.2000000e+02 1.2000000e+01]\n",
      " [1.5592412e+07 1.0000000e+00 4.1000000e+01 ... 1.0000000e+00\n",
      "  5.6000000e+02 1.0000000e+00]]\n",
      "[[8.42681467e-01 1.00000000e+00 1.25263158e-01 ... 5.00000000e-01\n",
      "  5.00000000e-02 1.21200000e-02]\n",
      " [6.96090562e-01 0.00000000e+00 1.34135338e-01 ... 5.00000000e-01\n",
      "  8.00000000e-02 0.00000000e+00]\n",
      " [3.88981656e-01 0.00000000e+00 2.38045113e-01 ... 5.00000000e-01\n",
      "  1.40000000e-01 0.00000000e+00]\n",
      " ...\n",
      " [4.39420332e-01 0.00000000e+00 7.63909774e-02 ... 5.00000000e-01\n",
      "  5.00000000e-02 0.00000000e+00]\n",
      " [8.44034934e-01 0.00000000e+00 2.05563910e-01 ... 5.00000000e-01\n",
      "  6.00000000e-02 1.10000000e-04]\n",
      " [1.06907888e-01 1.00000000e+00 4.09774436e-01 ... 0.00000000e+00\n",
      "  2.80000000e-01 0.00000000e+00]]\n"
     ]
    }
   ],
   "source": [
    "dataset = pd.read_csv('Credit_Card_Applications.csv')\n",
    "print(\"The 'Class' column indicates which applications were accepted (1) or rejected (0)\")\n",
    "print(dataset)\n",
    "\n",
    "# Store customer data in X\n",
    "X = dataset.iloc[:, :-1].values\n",
    "print(X)\n",
    "\n",
    "# Store application status in y\n",
    "y = dataset.iloc[:, -1].values\n",
    "\n",
    "# Normalisation\n",
    "sc = MinMaxScaler(feature_range = (0, 1))\n",
    "X = sc.fit_transform(X)\n",
    "print(X)"
   ]
  },
  {
   "cell_type": "markdown",
   "id": "ac7ea176-d4ef-4204-beba-da93d0a56150",
   "metadata": {},
   "source": [
    "<br></br>\n",
    "***\n",
    "## Building & Training the SOM"
   ]
  },
  {
   "cell_type": "code",
   "execution_count": 19,
   "id": "275c02e2-a186-40e2-8829-d95905b01eee",
   "metadata": {
    "tags": []
   },
   "outputs": [],
   "source": [
    "som = MiniSom(x = 10, y = 10,                  # Arbitrarily chosen dimensions for the SOM\n",
    "              input_len = X.shape[1],          # Number of features in the dataset\n",
    "              sigma = 1.0,                     # Cluster radius         \n",
    "              learning_rate = 0.5)             # Amount by which weights are incremented on each iteration\n",
    "\n",
    "som.random_weights_init(X)\n",
    "som.train_random(data = X, num_iteration = 100)"
   ]
  },
  {
   "cell_type": "markdown",
   "id": "4b44a587-f869-4362-b1f2-cb861c308845",
   "metadata": {},
   "source": [
    "<br></br>\n",
    "***\n",
    "## Visualisation"
   ]
  },
  {
   "cell_type": "code",
   "execution_count": 20,
   "id": "c08ebbc1-2569-44a1-882e-bc63f8758815",
   "metadata": {
    "tags": []
   },
   "outputs": [
    {
     "name": "stdout",
     "output_type": "stream",
     "text": [
      "Squares: Approved  Circles: Rejected  White cells: Outliers\n"
     ]
    },
    {
     "data": {
      "image/png": "[encoded data removed]",
      "text/plain": [
       "<Figure size 640x480 with 2 Axes>"
      ]
     },
     "metadata": {},
     "output_type": "display_data"
    }
   ],
   "source": [
    "# Window to display the SOM\n",
    "bone()\n",
    "\n",
    "# Obtain the mean inter-neuron distances and plot them\n",
    "distanceMap = som.distance_map().T\n",
    "pcolor(distanceMap)\n",
    "\n",
    "# Print a legend for each color on the plot\n",
    "colorbar()\n",
    "\n",
    "# Add markers to indicate which customer (and their associated neuron) was approved/rejected\n",
    "markers = ['o', 's']\n",
    "colors = ['r', 'g']\n",
    "for i, x in enumerate(X):\n",
    "    w = som.winner(x)\n",
    "    applicationStatus = y[i]\n",
    "    plot(w[0] + 0.5,                                    # Place marker at the centre of the square on the grid\n",
    "         w[1] + 0.5,\n",
    "         markers[applicationStatus],\n",
    "         markeredgecolor = colors[applicationStatus],\n",
    "         markerfacecolor = 'None',\n",
    "         markersize = 10,\n",
    "         markeredgewidth = 2)\n",
    "\n",
    "print(\"Squares: Approved  Circles: Rejected  White cells: Outliers\")\n",
    "show()"
   ]
  },
  {
   "cell_type": "markdown",
   "id": "5aa84d9b-4b02-4a78-9500-0493465a1ca4",
   "metadata": {},
   "source": [
    "<br></br>\n",
    "***\n",
    "## Identifying outliers as potentially fraudulent customers"
   ]
  },
  {
   "cell_type": "code",
   "execution_count": 22,
   "id": "9038c781-3c6d-41ce-9c13-5dfe273330e0",
   "metadata": {
    "tags": []
   },
   "outputs": [
    {
     "name": "stdout",
     "output_type": "stream",
     "text": [
      "Neurons above threshold:  [(3, 1), (8, 7)]\n",
      "Fraudulent customers: [15631451.0, 15660871.0]\n"
     ]
    }
   ],
   "source": [
    "# Identify neurons that are above a threshold by iterating over the distance map\n",
    "threshold = 0.95\n",
    "neuronsAboveThreshold = []\n",
    "for i in range(distanceMap.shape[0]):\n",
    "    for j in range(distanceMap.shape[1]):\n",
    "        if distanceMap[i, j] >= threshold:\n",
    "            neuronsAboveThreshold.append((i, j))\n",
    "\n",
    "print(\"Neurons above threshold: \", neuronsAboveThreshold)\n",
    "\n",
    "\n",
    "mappings = som.win_map(X)\n",
    "# Create an array to hold a list of normalised customer numbers\n",
    "frauds = []\n",
    "for neuron in neuronsAboveThreshold:\n",
    "    customers = mappings[neuron]\n",
    "    \n",
    "    for customer in customers:\n",
    "        frauds.append(customer)\n",
    "\n",
    "frauds = sc.inverse_transform(frauds)\n",
    "fraudulentCustomerNumbers = []\n",
    "for customerDetails in frauds:\n",
    "    fraudulentCustomerNumbers.append(customerDetails[0])\n",
    "print(\"Fraudulent customers:\", fraudulentCustomerNumbers)"
   ]
  }
 ],
 "metadata": {
  "kernelspec": {
   "display_name": "Python 3 (ipykernel)",
   "language": "python",
   "name": "python3"
  },
  "language_info": {
   "codemirror_mode": {
    "name": "ipython",
    "version": 3
   },
   "file_extension": ".py",
   "mimetype": "text/x-python",
   "name": "python",
   "nbconvert_exporter": "python",
   "pygments_lexer": "ipython3",
   "version": "3.11.5"
  }
 },
 "nbformat": 4,
 "nbformat_minor": 5
}
