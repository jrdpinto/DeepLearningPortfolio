{
 "cells": [
  {
   "cell_type": "markdown",
   "id": "bf5b7f3d-85f3-4262-999c-02410d3198e7",
   "metadata": {},
   "source": [
    "# Regression using an Artificial Neural Network"
   ]
  },
  {
   "cell_type": "markdown",
   "id": "add5416b-fb3a-47a5-82ce-44c7054627d3",
   "metadata": {},
   "source": [
    "A simple ANN regression model built using the ['Combined Cycle Power Plant'](https://archive.ics.uci.edu/dataset/294/combined+cycle+power+plant) dataset from the UC Irvine Machine Learning Repository, and as part of a [Udemy course](https://www.udemy.com/course/linear-regression-with-artificial-neural-network/learn/lecture/18888982#overview) on building a regression model with an ANN. The dataset consists of 9568 data points collected from a Combined Cycle Power Plant. Features are as follows.\n",
    "- Temperature (T) in the range 1.81°C and 37.11°C,\n",
    "- Ambient Pressure (AP) in the range 992.89-1033.30 milibar,\n",
    "- Relative Humidity (RH) in the range 25.56% to 100.16%\n",
    "- Exhaust Vacuum (V) in the range 25.36-81.56 cm Hg\n",
    "- Net hourly electrical energy output (EP) 420.26-495.76 MW\n",
    "\n",
    "This model attempts to predict hourly electrical output given the Temperature, Ambient Pressure, Relative Humidity and Exhaust Vacuum."
   ]
  },
  {
   "cell_type": "markdown",
   "id": "6159de21-1113-4131-ae3a-8211a582107c",
   "metadata": {},
   "source": [
    "<br></br>\n",
    "***\n",
    "## Libraries"
   ]
  },
  {
   "cell_type": "code",
   "execution_count": null,
   "id": "30d435ab-a550-4d95-b569-562d7cd93c3d",
   "metadata": {},
   "outputs": [],
   "source": []
  }
 ],
 "metadata": {
  "kernelspec": {
   "display_name": "Python 3 (ipykernel)",
   "language": "python",
   "name": "python3"
  },
  "language_info": {
   "codemirror_mode": {
    "name": "ipython",
    "version": 3
   },
   "file_extension": ".py",
   "mimetype": "text/x-python",
   "name": "python",
   "nbconvert_exporter": "python",
   "pygments_lexer": "ipython3",
   "version": "3.10.13"
  }
 },
 "nbformat": 4,
 "nbformat_minor": 5
}
