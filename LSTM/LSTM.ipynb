{
 "cells": [
  {
   "cell_type": "markdown",
   "id": "67298e90-de20-4ddc-90f0-207dbdc84a36",
   "metadata": {
    "colab_type": "text",
    "id": "lP6JLo1tGNBg",
    "tags": []
   },
   "source": [
    "# LSTM Network - Stock Price Prediction"
   ]
  },
  {
   "cell_type": "markdown",
   "id": "33216e02-a8d9-47e1-a607-ed312b512d34",
   "metadata": {},
   "source": [
    "A stacked LSTM (Long Short-Term Memory) model built using data from a course on Udemy called [Deep Learning A-Z](https://www.udemy.com/course/deeplearning/learn/lecture/8374794). The dataset consists of "
   ]
  },
  {
   "cell_type": "code",
   "execution_count": null,
   "id": "62cb4f99-53a8-4b56-b1a9-6903b5d384fd",
   "metadata": {},
   "outputs": [],
   "source": []
  }
 ],
 "metadata": {
  "kernelspec": {
   "display_name": "Python 3 (ipykernel)",
   "language": "python",
   "name": "python3"
  },
  "language_info": {
   "codemirror_mode": {
    "name": "ipython",
    "version": 3
   },
   "file_extension": ".py",
   "mimetype": "text/x-python",
   "name": "python",
   "nbconvert_exporter": "python",
   "pygments_lexer": "ipython3",
   "version": "3.10.13"
  }
 },
 "nbformat": 4,
 "nbformat_minor": 5
}
