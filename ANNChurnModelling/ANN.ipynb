{
 "cells": [
  {
   "cell_type": "markdown",
   "id": "8757cc18-9a42-495b-87e1-2d93b9c4982f",
   "metadata": {
    "colab_type": "text",
    "id": "lP6JLo1tGNBg",
    "tags": []
   },
   "source": [
    "# Classification using an Artificial Neural Network"
   ]
  },
  {
   "cell_type": "markdown",
   "id": "9125e9c4-44c3-4a59-8a9f-98b93c6769fe",
   "metadata": {},
   "source": [
    "A simple ANN built using data from a course on Udemy called [Deep Learning A-Z](https://www.udemy.com/course/deeplearning/learn/lecture/20258078#overview). The dataset lists customers at a bank who have either stayed with the bank or chosen to leave, along with several data points for each customer such as their bank balance, credit score and geographic location. The aim of this model is to predict whether a given customer will stay or leave the bank, based on the aforementioned data points."
   ]
  },
  {
   "cell_type": "markdown",
   "id": "6d95dfe2-c19d-4027-80a8-68e9f4b2cfaf",
   "metadata": {
    "tags": []
   },
   "source": [
    "<br></br>\n",
    "***\n",
    "## Libraries"
   ]
  },
  {
   "cell_type": "code",
   "execution_count": 45,
   "id": "7254f57c-b9ef-4023-9c99-6f5261f4474f",
   "metadata": {
    "colab": {},
    "colab_type": "code",
    "id": "MxkJoQBkUIHC"
   },
   "outputs": [],
   "source": [
    "import numpy as np\n",
    "import pandas as pd\n",
    "import tensorflow as tf\n",
    "\n",
    "from sklearn.preprocessing import LabelEncoder\n",
    "from sklearn.compose import ColumnTransformer\n",
    "from sklearn.preprocessing import OneHotEncoder\n",
    "from sklearn.model_selection import train_test_split\n",
    "from sklearn.preprocessing import StandardScaler"
   ]
  },
  {
   "cell_type": "code",
   "execution_count": 46,
   "id": "cf10d259-cee5-454f-91ac-f85df59e77ce",
   "metadata": {
    "tags": []
   },
   "outputs": [
    {
     "data": {
      "text/plain": [
       "'2.10.0'"
      ]
     },
     "execution_count": 46,
     "metadata": {},
     "output_type": "execute_result"
    }
   ],
   "source": [
    "tf.__version__"
   ]
  },
  {
   "cell_type": "markdown",
   "id": "9fcdf946-199c-4f42-8f81-8dec8614be8d",
   "metadata": {
    "tags": []
   },
   "source": [
    "<br></br>\n",
    "***\n",
    "## Data Preprocessing"
   ]
  },
  {
   "cell_type": "markdown",
   "id": "c5e9d4ec-0f18-4b60-a648-37d7d84d5fea",
   "metadata": {
    "tags": []
   },
   "source": [
    "### **Import**"
   ]
  },
  {
   "cell_type": "code",
   "execution_count": 47,
   "id": "89351f2b-57cc-4730-9c20-5879261d9f4c",
   "metadata": {
    "tags": []
   },
   "outputs": [],
   "source": [
    "db = pd.read_csv('Churn_Modelling.csv')\n",
    "\n",
    "# Features - Columns 3 to 12. Credit Score to Estimated Salary\n",
    "X = db.iloc[:, 3:-1].values\n",
    "\n",
    "# Expected value - 0: Stayed  1: Left\n",
    "y = db.iloc[:,-1].values"
   ]
  },
  {
   "cell_type": "code",
   "execution_count": 48,
   "id": "a6efc162-81fb-4d40-a676-732a3ec8a4c1",
   "metadata": {
    "tags": []
   },
   "outputs": [
    {
     "name": "stdout",
     "output_type": "stream",
     "text": [
      "[[619 'France' 'Female' ... 1 1 101348.88]\n",
      " [608 'Spain' 'Female' ... 0 1 112542.58]\n",
      " [502 'France' 'Female' ... 1 0 113931.57]\n",
      " ...\n",
      " [709 'France' 'Female' ... 0 1 42085.58]\n",
      " [772 'Germany' 'Male' ... 1 0 92888.52]\n",
      " [792 'France' 'Female' ... 1 0 38190.78]]\n"
     ]
    }
   ],
   "source": [
    "print(X)"
   ]
  },
  {
   "cell_type": "code",
   "execution_count": 49,
   "id": "0d56c8c3-114c-4b44-939b-f895d168d9ca",
   "metadata": {
    "tags": []
   },
   "outputs": [
    {
     "name": "stdout",
     "output_type": "stream",
     "text": [
      "[1 0 1 ... 1 1 0]\n"
     ]
    }
   ],
   "source": [
    "print(y)"
   ]
  },
  {
   "cell_type": "markdown",
   "id": "707aa8f9-365e-441f-9001-14b242f0fc7e",
   "metadata": {},
   "source": [
    "<br></br>\n",
    "### **Encoding**"
   ]
  },
  {
   "cell_type": "markdown",
   "id": "38862226-c279-4ff2-b8c2-ec8a018f330b",
   "metadata": {
    "tags": []
   },
   "source": [
    "#### Encode the gender column"
   ]
  },
  {
   "cell_type": "code",
   "execution_count": 50,
   "id": "e7e9ba22-200a-4b84-b273-c521d3fe854b",
   "metadata": {
    "tags": []
   },
   "outputs": [],
   "source": [
    "# NOTE: A fit_transform combines the operations of 'fitting' the encoder (i.e: learning how to map values), before transforming the data\n",
    "genderColumnTransformer = LabelEncoder()\n",
    "X[:, 2] = genderColumnTransformer.fit_transform(X[:, 2])"
   ]
  },
  {
   "cell_type": "code",
   "execution_count": 51,
   "id": "786df274-e1e9-42b5-aef5-777c40757259",
   "metadata": {
    "tags": []
   },
   "outputs": [
    {
     "name": "stdout",
     "output_type": "stream",
     "text": [
      "[[619 'France' 0 ... 1 1 101348.88]\n",
      " [608 'Spain' 0 ... 0 1 112542.58]\n",
      " [502 'France' 0 ... 1 0 113931.57]\n",
      " ...\n",
      " [709 'France' 0 ... 0 1 42085.58]\n",
      " [772 'Germany' 1 ... 1 0 92888.52]\n",
      " [792 'France' 0 ... 1 0 38190.78]]\n"
     ]
    }
   ],
   "source": [
    "print(X)"
   ]
  },
  {
   "cell_type": "markdown",
   "id": "3d606139-84fe-4b33-b1b4-04dcef234acb",
   "metadata": {
    "tags": []
   },
   "source": [
    "#### One-hot encoding for location"
   ]
  },
  {
   "cell_type": "markdown",
   "id": "00ef5527-ea8d-4957-af68-ec87d81f7699",
   "metadata": {},
   "source": [
    "ColumnTransformer is initialized with the following parameters:\n",
    "- transformers: This parameter specifies the list of transformers to apply to the columns of the dataset. In this case, a tuple is provided with three elements:\n",
    "- encoder': This is a string identifier for the transformer.\n",
    "- OneHotEncoder(): This specifies the transformer to use for one-hot encoding. OneHotEncoder() is used to convert categorical features into one-hot encoded features.\n",
    "- [1]: This specifies the indices of the columns to apply the transformer to. In this case, [1] indicates that the transformer should be applied to the column at index 1 of the dataset X.\n",
    "- remainder='passthrough': This parameter specifies how to handle columns that are not specified in the transformers list. 'passthrough' indicates that these columns should be passed through without any transformation."
   ]
  },
  {
   "cell_type": "code",
   "execution_count": 52,
   "id": "66cad479-265f-497e-bf2f-e134b5693707",
   "metadata": {
    "tags": []
   },
   "outputs": [],
   "source": [
    "ct = ColumnTransformer(transformers=[('encoder', OneHotEncoder(), [1])], remainder='passthrough')\n",
    "X = np.array(ct.fit_transform(X))"
   ]
  },
  {
   "cell_type": "code",
   "execution_count": 53,
   "id": "db98fefd-98ac-43de-96e0-5b39b700b489",
   "metadata": {
    "tags": []
   },
   "outputs": [
    {
     "name": "stdout",
     "output_type": "stream",
     "text": [
      "[[1.0 0.0 0.0 ... 1 1 101348.88]\n",
      " [0.0 0.0 1.0 ... 0 1 112542.58]\n",
      " [1.0 0.0 0.0 ... 1 0 113931.57]\n",
      " ...\n",
      " [1.0 0.0 0.0 ... 0 1 42085.58]\n",
      " [0.0 1.0 0.0 ... 1 0 92888.52]\n",
      " [1.0 0.0 0.0 ... 1 0 38190.78]]\n"
     ]
    }
   ],
   "source": [
    "print(X)"
   ]
  },
  {
   "cell_type": "markdown",
   "id": "69691db1-7579-4bbc-87f6-d1a2e48a9e34",
   "metadata": {},
   "source": [
    "<br></br>\n",
    "### **Split the dataset into training and test sets**"
   ]
  },
  {
   "cell_type": "code",
   "execution_count": 54,
   "id": "4bc0b8d8-fca1-440e-9f9c-a66ff942b661",
   "metadata": {
    "tags": []
   },
   "outputs": [],
   "source": [
    "# test_size: Sets the size of the test set to 20% of the original dataset\n",
    "# random_state: Sets randomisation of the splitting process to zero, ensuring that the data is always split in the same way\n",
    "X_train, X_test, y_train, y_test = train_test_split(X, y, test_size = 0.2, random_state = 0)"
   ]
  },
  {
   "cell_type": "markdown",
   "id": "a7bd72e0-5a81-4fb0-a6ea-5ad32aa3164c",
   "metadata": {},
   "source": [
    "<br></br>\n",
    "### **Feature Scaling**"
   ]
  },
  {
   "cell_type": "code",
   "execution_count": 55,
   "id": "e4ab288a-f54c-414a-89d3-8c59b7127d58",
   "metadata": {
    "tags": []
   },
   "outputs": [],
   "source": [
    "sc = StandardScaler()\n",
    "X_train = sc.fit_transform(X_train)\n",
    "X_test = sc.transform(X_test)"
   ]
  },
  {
   "cell_type": "markdown",
   "id": "b99164ac-9dc6-4700-9921-b70a0b244056",
   "metadata": {
    "tags": []
   },
   "source": [
    "<br></br>\n",
    "***\n",
    "## Building the ANN"
   ]
  },
  {
   "cell_type": "code",
   "execution_count": 56,
   "id": "a4388a2b-31f3-4fa2-9c5e-e3819db8e22e",
   "metadata": {
    "tags": []
   },
   "outputs": [],
   "source": [
    "ann = tf.keras.models.Sequential()\n",
    "# Input and 1st layer\n",
    "ann.add(tf.keras.layers.Dense(units=6, activation='relu'))\n",
    "\n",
    "# Second layer\n",
    "ann.add(tf.keras.layers.Dense(units=6, activation='relu'))\n",
    "\n",
    "# Output layer\n",
    "# Note the use of 'sigmoid' to obtain a continuous probability output\n",
    "ann.add(tf.keras.layers.Dense(units=1, activation='sigmoid'))\n",
    "\n",
    "# 'adam' : Optimizer used during back propagation. Better than SGD as it adapts the learning rate, and uses momentum to navigate steep/shallow gradients\n",
    "# 'binary_crossentropy' : Loss function that encourages the model to produce high probabilities for +ve examples, low probability for -ve examples\n",
    "# 'accuracy' : Uses the number of correctly classified samples to determine the performance of the trained model\n",
    "ann.compile(optimizer = 'adam', loss = 'binary_crossentropy', metrics = ['accuracy'])"
   ]
  },
  {
   "cell_type": "markdown",
   "id": "1d7bc9f4-ecbb-41ce-b298-90d4fcaa072e",
   "metadata": {
    "tags": []
   },
   "source": [
    "<br></br>\n",
    "***\n",
    "## Training the ANN"
   ]
  },
  {
   "cell_type": "code",
   "execution_count": 57,
   "id": "b3b0b700-d6f6-4e04-be54-ac8877081f21",
   "metadata": {
    "tags": []
   },
   "outputs": [
    {
     "name": "stdout",
     "output_type": "stream",
     "text": [
      "Epoch 1/100\n",
      "250/250 [==============================] - 1s 874us/step - loss: 0.6470 - accuracy: 0.6645\n",
      "Epoch 2/100\n",
      "250/250 [==============================] - 0s 880us/step - loss: 0.4935 - accuracy: 0.7940\n",
      "Epoch 3/100\n",
      "250/250 [==============================] - 0s 896us/step - loss: 0.4567 - accuracy: 0.7996\n",
      "Epoch 4/100\n",
      "250/250 [==============================] - 0s 880us/step - loss: 0.4372 - accuracy: 0.8089\n",
      "Epoch 5/100\n",
      "250/250 [==============================] - 0s 876us/step - loss: 0.4245 - accuracy: 0.8131\n",
      "Epoch 6/100\n",
      "250/250 [==============================] - 0s 860us/step - loss: 0.4147 - accuracy: 0.8183\n",
      "Epoch 7/100\n",
      "250/250 [==============================] - 0s 878us/step - loss: 0.4053 - accuracy: 0.8229\n",
      "Epoch 8/100\n",
      "250/250 [==============================] - 0s 875us/step - loss: 0.3959 - accuracy: 0.8291\n",
      "Epoch 9/100\n",
      "250/250 [==============================] - 0s 860us/step - loss: 0.3860 - accuracy: 0.8329\n",
      "Epoch 10/100\n",
      "250/250 [==============================] - 0s 847us/step - loss: 0.3755 - accuracy: 0.8407\n",
      "Epoch 11/100\n",
      "250/250 [==============================] - 0s 842us/step - loss: 0.3659 - accuracy: 0.8447\n",
      "Epoch 12/100\n",
      "250/250 [==============================] - 0s 875us/step - loss: 0.3595 - accuracy: 0.8486\n",
      "Epoch 13/100\n",
      "250/250 [==============================] - 0s 871us/step - loss: 0.3549 - accuracy: 0.8504\n",
      "Epoch 14/100\n",
      "250/250 [==============================] - 0s 857us/step - loss: 0.3522 - accuracy: 0.8546\n",
      "Epoch 15/100\n",
      "250/250 [==============================] - 0s 856us/step - loss: 0.3496 - accuracy: 0.8553\n",
      "Epoch 16/100\n",
      "250/250 [==============================] - 0s 871us/step - loss: 0.3469 - accuracy: 0.8569\n",
      "Epoch 17/100\n",
      "250/250 [==============================] - 0s 852us/step - loss: 0.3453 - accuracy: 0.8574\n",
      "Epoch 18/100\n",
      "250/250 [==============================] - 0s 865us/step - loss: 0.3436 - accuracy: 0.8579\n",
      "Epoch 19/100\n",
      "250/250 [==============================] - 0s 875us/step - loss: 0.3421 - accuracy: 0.8594\n",
      "Epoch 20/100\n",
      "250/250 [==============================] - 0s 866us/step - loss: 0.3414 - accuracy: 0.8611\n",
      "Epoch 21/100\n",
      "250/250 [==============================] - 0s 868us/step - loss: 0.3406 - accuracy: 0.8622\n",
      "Epoch 22/100\n",
      "250/250 [==============================] - 0s 883us/step - loss: 0.3397 - accuracy: 0.8616\n",
      "Epoch 23/100\n",
      "250/250 [==============================] - 0s 861us/step - loss: 0.3388 - accuracy: 0.8614\n",
      "Epoch 24/100\n",
      "250/250 [==============================] - 0s 866us/step - loss: 0.3379 - accuracy: 0.8627\n",
      "Epoch 25/100\n",
      "250/250 [==============================] - 0s 869us/step - loss: 0.3373 - accuracy: 0.8637\n",
      "Epoch 26/100\n",
      "250/250 [==============================] - 0s 949us/step - loss: 0.3370 - accuracy: 0.8620\n",
      "Epoch 27/100\n",
      "250/250 [==============================] - 0s 945us/step - loss: 0.3361 - accuracy: 0.8636\n",
      "Epoch 28/100\n",
      "250/250 [==============================] - 0s 945us/step - loss: 0.3360 - accuracy: 0.8639\n",
      "Epoch 29/100\n",
      "250/250 [==============================] - 0s 933us/step - loss: 0.3352 - accuracy: 0.8620\n",
      "Epoch 30/100\n",
      "250/250 [==============================] - 0s 941us/step - loss: 0.3346 - accuracy: 0.8615\n",
      "Epoch 31/100\n",
      "250/250 [==============================] - 0s 955us/step - loss: 0.3344 - accuracy: 0.8631\n",
      "Epoch 32/100\n",
      "250/250 [==============================] - 0s 951us/step - loss: 0.3343 - accuracy: 0.8649\n",
      "Epoch 33/100\n",
      "250/250 [==============================] - 0s 959us/step - loss: 0.3337 - accuracy: 0.8626\n",
      "Epoch 34/100\n",
      "250/250 [==============================] - 0s 938us/step - loss: 0.3334 - accuracy: 0.8626\n",
      "Epoch 35/100\n",
      "250/250 [==============================] - 0s 945us/step - loss: 0.3334 - accuracy: 0.8634\n",
      "Epoch 36/100\n",
      "250/250 [==============================] - 0s 955us/step - loss: 0.3332 - accuracy: 0.8635\n",
      "Epoch 37/100\n",
      "250/250 [==============================] - 0s 887us/step - loss: 0.3328 - accuracy: 0.8629\n",
      "Epoch 38/100\n",
      "250/250 [==============================] - 0s 887us/step - loss: 0.3326 - accuracy: 0.8634\n",
      "Epoch 39/100\n",
      "250/250 [==============================] - 0s 879us/step - loss: 0.3322 - accuracy: 0.8644\n",
      "Epoch 40/100\n",
      "250/250 [==============================] - 0s 883us/step - loss: 0.3323 - accuracy: 0.8637\n",
      "Epoch 41/100\n",
      "250/250 [==============================] - 0s 870us/step - loss: 0.3321 - accuracy: 0.8639\n",
      "Epoch 42/100\n",
      "250/250 [==============================] - 0s 870us/step - loss: 0.3319 - accuracy: 0.8639\n",
      "Epoch 43/100\n",
      "250/250 [==============================] - 0s 861us/step - loss: 0.3315 - accuracy: 0.8634\n",
      "Epoch 44/100\n",
      "250/250 [==============================] - 0s 879us/step - loss: 0.3316 - accuracy: 0.8626\n",
      "Epoch 45/100\n",
      "250/250 [==============================] - 0s 880us/step - loss: 0.3317 - accuracy: 0.8643\n",
      "Epoch 46/100\n",
      "250/250 [==============================] - 0s 886us/step - loss: 0.3317 - accuracy: 0.8652\n",
      "Epoch 47/100\n",
      "250/250 [==============================] - 0s 885us/step - loss: 0.3316 - accuracy: 0.8644\n",
      "Epoch 48/100\n",
      "250/250 [==============================] - 0s 883us/step - loss: 0.3310 - accuracy: 0.8646\n",
      "Epoch 49/100\n",
      "250/250 [==============================] - 0s 879us/step - loss: 0.3311 - accuracy: 0.8644\n",
      "Epoch 50/100\n",
      "250/250 [==============================] - 0s 879us/step - loss: 0.3310 - accuracy: 0.8650\n",
      "Epoch 51/100\n",
      "250/250 [==============================] - 0s 879us/step - loss: 0.3309 - accuracy: 0.8658\n",
      "Epoch 52/100\n",
      "250/250 [==============================] - 0s 887us/step - loss: 0.3308 - accuracy: 0.8650\n",
      "Epoch 53/100\n",
      "250/250 [==============================] - 0s 876us/step - loss: 0.3311 - accuracy: 0.8651\n",
      "Epoch 54/100\n",
      "250/250 [==============================] - 0s 884us/step - loss: 0.3306 - accuracy: 0.8643\n",
      "Epoch 55/100\n",
      "250/250 [==============================] - 0s 888us/step - loss: 0.3308 - accuracy: 0.8637\n",
      "Epoch 56/100\n",
      "250/250 [==============================] - 0s 883us/step - loss: 0.3308 - accuracy: 0.8651\n",
      "Epoch 57/100\n",
      "250/250 [==============================] - 0s 875us/step - loss: 0.3306 - accuracy: 0.8648\n",
      "Epoch 58/100\n",
      "250/250 [==============================] - 0s 883us/step - loss: 0.3303 - accuracy: 0.8662\n",
      "Epoch 59/100\n",
      "250/250 [==============================] - 0s 878us/step - loss: 0.3309 - accuracy: 0.8648\n",
      "Epoch 60/100\n",
      "250/250 [==============================] - 0s 879us/step - loss: 0.3303 - accuracy: 0.8641\n",
      "Epoch 61/100\n",
      "250/250 [==============================] - 0s 879us/step - loss: 0.3307 - accuracy: 0.8637\n",
      "Epoch 62/100\n",
      "250/250 [==============================] - 0s 880us/step - loss: 0.3301 - accuracy: 0.8644\n",
      "Epoch 63/100\n",
      "250/250 [==============================] - 0s 884us/step - loss: 0.3299 - accuracy: 0.8650\n",
      "Epoch 64/100\n",
      "250/250 [==============================] - 0s 888us/step - loss: 0.3304 - accuracy: 0.8635\n",
      "Epoch 65/100\n",
      "250/250 [==============================] - 0s 880us/step - loss: 0.3301 - accuracy: 0.8644\n",
      "Epoch 66/100\n",
      "250/250 [==============================] - 0s 870us/step - loss: 0.3299 - accuracy: 0.8646\n",
      "Epoch 67/100\n",
      "250/250 [==============================] - 0s 884us/step - loss: 0.3297 - accuracy: 0.8652\n",
      "Epoch 68/100\n",
      "250/250 [==============================] - 0s 882us/step - loss: 0.3299 - accuracy: 0.8644\n",
      "Epoch 69/100\n",
      "250/250 [==============================] - 0s 888us/step - loss: 0.3301 - accuracy: 0.8655\n",
      "Epoch 70/100\n",
      "250/250 [==============================] - 0s 878us/step - loss: 0.3298 - accuracy: 0.8660\n",
      "Epoch 71/100\n",
      "250/250 [==============================] - 0s 886us/step - loss: 0.3298 - accuracy: 0.8665\n",
      "Epoch 72/100\n",
      "250/250 [==============================] - 0s 892us/step - loss: 0.3299 - accuracy: 0.8635\n",
      "Epoch 73/100\n",
      "250/250 [==============================] - 0s 892us/step - loss: 0.3299 - accuracy: 0.8660\n",
      "Epoch 74/100\n",
      "250/250 [==============================] - 0s 884us/step - loss: 0.3299 - accuracy: 0.8644\n",
      "Epoch 75/100\n",
      "250/250 [==============================] - 0s 906us/step - loss: 0.3298 - accuracy: 0.8654\n",
      "Epoch 76/100\n",
      "250/250 [==============================] - 0s 888us/step - loss: 0.3295 - accuracy: 0.8649\n",
      "Epoch 77/100\n",
      "250/250 [==============================] - 0s 892us/step - loss: 0.3295 - accuracy: 0.8655\n",
      "Epoch 78/100\n",
      "250/250 [==============================] - 0s 900us/step - loss: 0.3296 - accuracy: 0.8648\n",
      "Epoch 79/100\n",
      "250/250 [==============================] - 0s 884us/step - loss: 0.3296 - accuracy: 0.8656\n",
      "Epoch 80/100\n",
      "250/250 [==============================] - 0s 883us/step - loss: 0.3294 - accuracy: 0.8645\n",
      "Epoch 81/100\n",
      "250/250 [==============================] - 0s 900us/step - loss: 0.3297 - accuracy: 0.8645\n",
      "Epoch 82/100\n",
      "250/250 [==============================] - 0s 916us/step - loss: 0.3295 - accuracy: 0.8637\n",
      "Epoch 83/100\n",
      "250/250 [==============================] - 0s 912us/step - loss: 0.3293 - accuracy: 0.8649\n",
      "Epoch 84/100\n",
      "250/250 [==============================] - 0s 875us/step - loss: 0.3293 - accuracy: 0.8646\n",
      "Epoch 85/100\n",
      "250/250 [==============================] - 0s 875us/step - loss: 0.3294 - accuracy: 0.8654\n",
      "Epoch 86/100\n",
      "250/250 [==============================] - 0s 877us/step - loss: 0.3292 - accuracy: 0.8651\n",
      "Epoch 87/100\n",
      "250/250 [==============================] - 0s 876us/step - loss: 0.3295 - accuracy: 0.8645\n",
      "Epoch 88/100\n",
      "250/250 [==============================] - 0s 871us/step - loss: 0.3292 - accuracy: 0.8629\n",
      "Epoch 89/100\n",
      "250/250 [==============================] - 0s 885us/step - loss: 0.3296 - accuracy: 0.8636\n",
      "Epoch 90/100\n",
      "250/250 [==============================] - 0s 884us/step - loss: 0.3289 - accuracy: 0.8646\n",
      "Epoch 91/100\n",
      "250/250 [==============================] - 0s 884us/step - loss: 0.3290 - accuracy: 0.8648\n",
      "Epoch 92/100\n",
      "250/250 [==============================] - 0s 892us/step - loss: 0.3292 - accuracy: 0.8639\n",
      "Epoch 93/100\n",
      "250/250 [==============================] - 0s 885us/step - loss: 0.3290 - accuracy: 0.8650\n",
      "Epoch 94/100\n",
      "250/250 [==============================] - 0s 892us/step - loss: 0.3293 - accuracy: 0.8641\n",
      "Epoch 95/100\n",
      "250/250 [==============================] - 0s 884us/step - loss: 0.3290 - accuracy: 0.8646\n",
      "Epoch 96/100\n",
      "250/250 [==============================] - 0s 912us/step - loss: 0.3292 - accuracy: 0.8637\n",
      "Epoch 97/100\n",
      "250/250 [==============================] - 0s 996us/step - loss: 0.3288 - accuracy: 0.8646\n",
      "Epoch 98/100\n",
      "250/250 [==============================] - 0s 952us/step - loss: 0.3287 - accuracy: 0.8648\n",
      "Epoch 99/100\n",
      "250/250 [==============================] - 0s 959us/step - loss: 0.3286 - accuracy: 0.8640\n",
      "Epoch 100/100\n",
      "250/250 [==============================] - 0s 945us/step - loss: 0.3289 - accuracy: 0.8637\n"
     ]
    },
    {
     "data": {
      "text/plain": [
       "<keras.callbacks.History at 0x179ba04cc70>"
      ]
     },
     "execution_count": 57,
     "metadata": {},
     "output_type": "execute_result"
    }
   ],
   "source": [
    "ann.fit(X_train, y_train, batch_size = 32, epochs = 100)"
   ]
  },
  {
   "cell_type": "code",
   "execution_count": 58,
   "id": "f30aaf94-3fed-4573-9c54-c08ddb417a66",
   "metadata": {
    "tags": []
   },
   "outputs": [
    {
     "data": {
      "image/png": "[encoded data removed]",
      "text/plain": [
       "<IPython.core.display.Image object>"
      ]
     },
     "execution_count": 58,
     "metadata": {},
     "output_type": "execute_result"
    }
   ],
   "source": [
    "tf.keras.utils.plot_model(ann, show_shapes=True, show_layer_names=True)"
   ]
  },
  {
   "cell_type": "markdown",
   "id": "7754283e-8b37-4c78-bcd6-9d5c48362f14",
   "metadata": {
    "tags": []
   },
   "source": [
    "<br></br>\n",
    "***\n",
    "## Predictions using the ANN"
   ]
  },
  {
   "cell_type": "markdown",
   "id": "f128f4fd-1118-4af0-a198-c44373a25fd3",
   "metadata": {
    "colab_type": "text",
    "id": "CGRo3eacgDdC"
   },
   "source": [
    "Use our ANN model to predict if the customer with the following informations will leave the bank: \n",
    "\n",
    "Geography: France\n",
    "\n",
    "Credit Score: 600\n",
    "\n",
    "Gender: Male\n",
    "\n",
    "Age: 40 years old\n",
    "\n",
    "Tenure: 3 years\n",
    "\n",
    "Balance: \\$ 60000\n",
    "\n",
    "Number of Products: 2\n",
    "\n",
    "Does this customer have a credit card ? Yes\n",
    "\n",
    "Is this customer an Active Member: Yes\n",
    "\n",
    "Estimated Salary: \\$ 50000"
   ]
  },
  {
   "cell_type": "code",
   "execution_count": 63,
   "id": "a2d74f59-9228-4e5f-a5e2-b10cf727988d",
   "metadata": {},
   "outputs": [
    {
     "data": {
      "text/plain": [
       "array([[1.0, 0]], dtype=object)"
      ]
     },
     "execution_count": 63,
     "metadata": {},
     "output_type": "execute_result"
    }
   ],
   "source": [
    "# Using the previously defined column transformer, use one-hot encoding to convert the geographical region\n",
    "geography=ct.fit_transform([[0, \"France\"]])\n",
    "geography"
   ]
  },
  {
   "cell_type": "code",
   "execution_count": 64,
   "id": "99e466e4-95f6-403c-bfe9-431d3be2f21d",
   "metadata": {
    "tags": []
   },
   "outputs": [
    {
     "data": {
      "text/plain": [
       "array([1])"
      ]
     },
     "execution_count": 64,
     "metadata": {},
     "output_type": "execute_result"
    }
   ],
   "source": [
    "gender=genderColumnTransformer.transform([\"Male\"])\n",
    "gender"
   ]
  },
  {
   "cell_type": "code",
   "execution_count": 65,
   "id": "43e930a6-743e-4800-8868-5a4716019637",
   "metadata": {
    "tags": []
   },
   "outputs": [
    {
     "ename": "TypeError",
     "evalue": "concatenate() takes from 1 to 3 positional arguments but 10 were given",
     "output_type": "error",
     "traceback": [
      "\u001b[1;31m---------------------------------------------------------------------------\u001b[0m",
      "\u001b[1;31mTypeError\u001b[0m                                 Traceback (most recent call last)",
      "Cell \u001b[1;32mIn[65], line 1\u001b[0m\n\u001b[1;32m----> 1\u001b[0m inputParams \u001b[38;5;241m=\u001b[39m \u001b[43mnp\u001b[49m\u001b[38;5;241;43m.\u001b[39;49m\u001b[43mconcatenate\u001b[49m\u001b[43m(\u001b[49m\u001b[43mgeography\u001b[49m\u001b[43m,\u001b[49m\u001b[43m \u001b[49m\u001b[38;5;241;43m600\u001b[39;49m\u001b[43m,\u001b[49m\u001b[43m \u001b[49m\u001b[43mgender\u001b[49m\u001b[43m,\u001b[49m\u001b[43m \u001b[49m\u001b[38;5;241;43m40\u001b[39;49m\u001b[43m,\u001b[49m\u001b[43m \u001b[49m\u001b[38;5;241;43m3\u001b[39;49m\u001b[43m,\u001b[49m\u001b[43m \u001b[49m\u001b[38;5;241;43m60000\u001b[39;49m\u001b[43m,\u001b[49m\u001b[43m \u001b[49m\u001b[38;5;241;43m2\u001b[39;49m\u001b[43m,\u001b[49m\u001b[43m \u001b[49m\u001b[38;5;241;43m1\u001b[39;49m\u001b[43m,\u001b[49m\u001b[43m \u001b[49m\u001b[38;5;241;43m1\u001b[39;49m\u001b[43m,\u001b[49m\u001b[43m \u001b[49m\u001b[38;5;241;43m50000\u001b[39;49m\u001b[43m)\u001b[49m\n",
      "\u001b[1;31mTypeError\u001b[0m: concatenate() takes from 1 to 3 positional arguments but 10 were given"
     ]
    }
   ],
   "source": [
    "inputParams = geography + [600] + gender + [ 40, 3, 60000, 2, 1, 1, 50000]"
   ]
  },
  {
   "cell_type": "code",
   "execution_count": null,
   "id": "16eed965-5af8-44fd-9a68-64d3be949c24",
   "metadata": {},
   "outputs": [],
   "source": []
  }
 ],
 "metadata": {
  "kernelspec": {
   "display_name": "Python 3 (ipykernel)",
   "language": "python",
   "name": "python3"
  },
  "language_info": {
   "codemirror_mode": {
    "name": "ipython",
    "version": 3
   },
   "file_extension": ".py",
   "mimetype": "text/x-python",
   "name": "python",
   "nbconvert_exporter": "python",
   "pygments_lexer": "ipython3",
   "version": "3.10.13"
  }
 },
 "nbformat": 4,
 "nbformat_minor": 5
}
