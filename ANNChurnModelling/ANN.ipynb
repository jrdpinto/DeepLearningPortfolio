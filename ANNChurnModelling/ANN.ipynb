{
 "cells": [
  {
   "cell_type": "markdown",
   "id": "8757cc18-9a42-495b-87e1-2d93b9c4982f",
   "metadata": {
    "colab_type": "text",
    "id": "lP6JLo1tGNBg",
    "tags": []
   },
   "source": [
    "# Classification using an Artificial Neural Network"
   ]
  },
  {
   "cell_type": "markdown",
   "id": "9125e9c4-44c3-4a59-8a9f-98b93c6769fe",
   "metadata": {},
   "source": [
    "A simple ANN built using data from a course on Udemy called [Deep Learning A-Z](https://www.udemy.com/course/deeplearning/learn/lecture/20258078#overview). The dataset lists customers at a bank who have either stayed or chosen to leave, along with several data points for each customer such as their bank balance, credit score and geographic location. The aim of this model is to predict whether a given customer will stay or leave the bank, based on the aforementioned data points."
   ]
  },
  {
   "cell_type": "code",
   "execution_count": null,
   "id": "65b4f804-e02b-44ab-972f-b5ac83ef5923",
   "metadata": {},
   "outputs": [],
   "source": []
  }
 ],
 "metadata": {
  "kernelspec": {
   "display_name": "Python 3 (ipykernel)",
   "language": "python",
   "name": "python3"
  },
  "language_info": {
   "codemirror_mode": {
    "name": "ipython",
    "version": 3
   },
   "file_extension": ".py",
   "mimetype": "text/x-python",
   "name": "python",
   "nbconvert_exporter": "python",
   "pygments_lexer": "ipython3",
   "version": "3.11.4"
  }
 },
 "nbformat": 4,
 "nbformat_minor": 5
}
