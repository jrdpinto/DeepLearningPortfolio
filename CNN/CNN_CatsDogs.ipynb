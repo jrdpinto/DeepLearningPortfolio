{
 "cells": [
  {
   "cell_type": "markdown",
   "id": "a8ac0f00-3a7e-49aa-951c-513852ad6f8b",
   "metadata": {
    "colab_type": "text",
    "id": "lP6JLo1tGNBg",
    "tags": []
   },
   "source": [
    "# Convolutional Neural Network"
   ]
  },
  {
   "cell_type": "markdown",
   "id": "e24cddec-e013-4503-a919-933532e98225",
   "metadata": {},
   "source": [
    "A simple CNN built using data from a course on Udemy called [Deep Learning A-Z](https://www.udemy.com/course/deeplearning/learn/lecture/20260978). The dataset consists of several images of dogs and cats, split into training and testing subsets.\n",
    "\n",
    "NOTE: The accuracy and architecture of this model is a work-in-progress :)"
   ]
  },
  {
   "cell_type": "markdown",
   "id": "4114076b-795a-4322-94c7-3103fefbe3dd",
   "metadata": {
    "tags": []
   },
   "source": [
    "<br></br>\n",
    "***\n",
    "## Libraries"
   ]
  },
  {
   "cell_type": "code",
   "execution_count": 76,
   "id": "6bda5c45-730a-438c-898c-9c75206643e3",
   "metadata": {
    "colab": {},
    "colab_type": "code",
    "id": "sCV30xyVhFbE",
    "tags": []
   },
   "outputs": [],
   "source": [
    "import numpy as np\n",
    "import tensorflow as tf\n",
    "\n",
    "from IPython.display import display, HTML\n",
    "from keras.preprocessing import image\n",
    "from pathlib import Path"
   ]
  },
  {
   "cell_type": "code",
   "execution_count": 21,
   "id": "1c6fe357-10c8-40ee-9648-448e67445b57",
   "metadata": {
    "colab": {},
    "colab_type": "code",
    "id": "FIleuCAjoFD8",
    "tags": []
   },
   "outputs": [
    {
     "data": {
      "text/plain": [
       "'2.10.0'"
      ]
     },
     "execution_count": 21,
     "metadata": {},
     "output_type": "execute_result"
    }
   ],
   "source": [
    "tf.__version__"
   ]
  },
  {
   "cell_type": "markdown",
   "id": "8bb9019d-60c7-4140-9736-f024c31d46f6",
   "metadata": {
    "tags": []
   },
   "source": [
    "<br></br>\n",
    "***\n",
    "## Data Preprocessing"
   ]
  },
  {
   "cell_type": "code",
   "execution_count": 23,
   "id": "04096527-9a9f-425e-a3f4-efbbd537da80",
   "metadata": {
    "tags": []
   },
   "outputs": [
    {
     "name": "stdout",
     "output_type": "stream",
     "text": [
      "Found 8048 images belonging to 2 classes.\n",
      "Found 2000 images belonging to 3 classes.\n"
     ]
    }
   ],
   "source": [
    "# Generate batches of tensor image data\n",
    "trainingtDataGenerator = image.ImageDataGenerator(rescale = 1./255,                # Normalise pixel values\n",
    "                                   shear_range = 0.2,                              # Image augmentation - Transforms images to prevent over-fitting\n",
    "                                   zoom_range = 0.2,\n",
    "                                   horizontal_flip = True)\n",
    "\n",
    "width=64\n",
    "height=64\n",
    "batchSize=32\n",
    "\n",
    "trainingData = trainingtDataGenerator.flow_from_directory('dataset/training_set',\n",
    "                                                 target_size = (width, height),    # Resize images\n",
    "                                                 batch_size = batchSize,\n",
    "                                                 class_mode = 'binary')            # Binary outcome i.e: Cat or Dog\n",
    "\n",
    "print(\"Class indices: \", trainingData.class_indices)\n",
    "\n",
    "# Perform a similar transformation for the test set\n",
    "testDataGenerator = image.ImageDataGenerator(rescale = 1./255)\n",
    "testData = testDataGenerator.flow_from_directory('dataset/test_set',\n",
    "                                                  target_size = (width, height),\n",
    "                                                  batch_size = batchSize,\n",
    "                                                  class_mode = 'binary')"
   ]
  },
  {
   "cell_type": "markdown",
   "id": "be466a04-477f-4640-a362-e9c00a8d1f5f",
   "metadata": {
    "tags": []
   },
   "source": [
    "<br></br>\n",
    "***\n",
    "## Building the CNN"
   ]
  },
  {
   "cell_type": "code",
   "execution_count": 24,
   "id": "18ca38b3-21b9-4f0a-a5db-55f381fc42ba",
   "metadata": {
    "tags": []
   },
   "outputs": [],
   "source": [
    "cnn = tf.keras.models.Sequential()"
   ]
  },
  {
   "cell_type": "markdown",
   "id": "c6189285-accd-4bef-8937-3a3ca25cebdf",
   "metadata": {},
   "source": [
    "### **Convolution**"
   ]
  },
  {
   "cell_type": "code",
   "execution_count": 25,
   "id": "280589ca-5fde-42dc-902c-83e6d39c5826",
   "metadata": {
    "tags": []
   },
   "outputs": [],
   "source": [
    "cnn.add(tf.keras.layers.Conv2D(filters=32,                      # Create 32 convolutional filters\n",
    "                               kernel_size=3,                   # 3x3 grid of weights\n",
    "                               activation='relu',               # Rectified Linear activation function\n",
    "                               input_shape=[width, height, 3])) # Dimensions + channels (R,G,B)"
   ]
  },
  {
   "cell_type": "markdown",
   "id": "26bc1974-ae80-4d83-9e75-e1d0f1c8ecbe",
   "metadata": {},
   "source": [
    "### **Pooling**"
   ]
  },
  {
   "cell_type": "code",
   "execution_count": 26,
   "id": "58ceb65d-7208-4399-8d04-9799c6a80cc0",
   "metadata": {
    "tags": []
   },
   "outputs": [],
   "source": [
    "cnn.add(tf.keras.layers.MaxPool2D(pool_size=2, # The size of the pooling window\n",
    "                                  strides=2))  # Step size for the pooling window. Note: By default, when the stride steps over the boundary\n",
    "                                               # of the image, only the values within the image are used."
   ]
  },
  {
   "cell_type": "markdown",
   "id": "5796d060-945b-4526-bec4-ad4c92018e5c",
   "metadata": {},
   "source": [
    "### **Second convolutional layer**"
   ]
  },
  {
   "cell_type": "code",
   "execution_count": 28,
   "id": "affe7fe7-f766-481d-bbe4-ad43886e421e",
   "metadata": {
    "tags": []
   },
   "outputs": [],
   "source": [
    "cnn.add(tf.keras.layers.Conv2D(filters=32, kernel_size=3, activation='relu'))\n",
    "cnn.add(tf.keras.layers.MaxPool2D(pool_size=2, strides=2))"
   ]
  },
  {
   "cell_type": "markdown",
   "id": "b5f59a30-324f-4283-9525-c0b3d6ade107",
   "metadata": {},
   "source": [
    "### **Flattening**"
   ]
  },
  {
   "cell_type": "code",
   "execution_count": 29,
   "id": "a105827b-930e-47da-91bd-7e83749dc81f",
   "metadata": {
    "tags": []
   },
   "outputs": [],
   "source": [
    "cnn.add(tf.keras.layers.Flatten()) # Flattens the output of the pooling layer into a 1d array"
   ]
  },
  {
   "cell_type": "markdown",
   "id": "97cdb566-0088-483b-af1d-f6bb3f509a2e",
   "metadata": {},
   "source": [
    "### **Full connection**"
   ]
  },
  {
   "cell_type": "code",
   "execution_count": 30,
   "id": "63bea9ab-67c6-4c6c-a1a9-e9e048940131",
   "metadata": {
    "tags": []
   },
   "outputs": [],
   "source": [
    "cnn.add(tf.keras.layers.Dense(units=128,          # 128 neurons\n",
    "                              activation='relu')) # Rectified linear activation function"
   ]
  },
  {
   "cell_type": "markdown",
   "id": "84f37a5f-a39b-4e4a-9b6a-ef4ed0c50370",
   "metadata": {},
   "source": [
    "### **Output Layer**"
   ]
  },
  {
   "cell_type": "code",
   "execution_count": 31,
   "id": "9b633b98-3c70-4a84-8aeb-aed43714a896",
   "metadata": {
    "tags": []
   },
   "outputs": [],
   "source": [
    "cnn.add(tf.keras.layers.Dense(units=1, activation='sigmoid'))"
   ]
  },
  {
   "cell_type": "markdown",
   "id": "d31ccea4-9154-4388-b7a8-e33951f43887",
   "metadata": {
    "tags": []
   },
   "source": [
    "<br></br>\n",
    "***\n",
    "## Training"
   ]
  },
  {
   "cell_type": "code",
   "execution_count": 32,
   "id": "82020afa-f9ec-420b-9e7b-1674fcdfe754",
   "metadata": {
    "tags": []
   },
   "outputs": [
    {
     "name": "stdout",
     "output_type": "stream",
     "text": [
      "Epoch 1/25\n",
      "252/252 [==============================] - 64s 251ms/step - loss: 0.6755 - accuracy: 0.5661 - val_loss: 0.4570 - val_accuracy: 0.2485\n",
      "Epoch 2/25\n",
      "252/252 [==============================] - 28s 110ms/step - loss: 0.6147 - accuracy: 0.6628 - val_loss: 0.0060 - val_accuracy: 0.2320\n",
      "Epoch 3/25\n",
      "252/252 [==============================] - 28s 111ms/step - loss: 0.5700 - accuracy: 0.7005 - val_loss: 0.2831 - val_accuracy: 0.1225\n",
      "Epoch 4/25\n",
      "252/252 [==============================] - 28s 110ms/step - loss: 0.5366 - accuracy: 0.7314 - val_loss: 0.1664 - val_accuracy: 0.1800\n",
      "Epoch 5/25\n",
      "252/252 [==============================] - 28s 109ms/step - loss: 0.5013 - accuracy: 0.7552 - val_loss: 0.1069 - val_accuracy: 0.1390\n",
      "Epoch 6/25\n",
      "252/252 [==============================] - 28s 112ms/step - loss: 0.4915 - accuracy: 0.7577 - val_loss: 0.3223 - val_accuracy: 0.1180\n",
      "Epoch 7/25\n",
      "252/252 [==============================] - 28s 110ms/step - loss: 0.4701 - accuracy: 0.7727 - val_loss: -0.2042 - val_accuracy: 0.1480\n",
      "Epoch 8/25\n",
      "252/252 [==============================] - 27s 109ms/step - loss: 0.4548 - accuracy: 0.7773 - val_loss: -0.1835 - val_accuracy: 0.1605\n",
      "Epoch 9/25\n",
      "252/252 [==============================] - 28s 112ms/step - loss: 0.4323 - accuracy: 0.7957 - val_loss: -0.0083 - val_accuracy: 0.1370\n",
      "Epoch 10/25\n",
      "252/252 [==============================] - 28s 110ms/step - loss: 0.4223 - accuracy: 0.8053 - val_loss: -0.0648 - val_accuracy: 0.1240\n",
      "Epoch 11/25\n",
      "252/252 [==============================] - 28s 109ms/step - loss: 0.4143 - accuracy: 0.8101 - val_loss: -0.1787 - val_accuracy: 0.1170\n",
      "Epoch 12/25\n",
      "252/252 [==============================] - 28s 112ms/step - loss: 0.3953 - accuracy: 0.8200 - val_loss: -0.5407 - val_accuracy: 0.1705\n",
      "Epoch 13/25\n",
      "252/252 [==============================] - 28s 110ms/step - loss: 0.3791 - accuracy: 0.8260 - val_loss: -0.9370 - val_accuracy: 0.1825\n",
      "Epoch 14/25\n",
      "252/252 [==============================] - 27s 109ms/step - loss: 0.3586 - accuracy: 0.8393 - val_loss: 0.3248 - val_accuracy: 0.0985\n",
      "Epoch 15/25\n",
      "252/252 [==============================] - 28s 111ms/step - loss: 0.3589 - accuracy: 0.8444 - val_loss: 0.2173 - val_accuracy: 0.0975\n",
      "Epoch 16/25\n",
      "252/252 [==============================] - 28s 111ms/step - loss: 0.3367 - accuracy: 0.8557 - val_loss: -0.6254 - val_accuracy: 0.1580\n",
      "Epoch 17/25\n",
      "252/252 [==============================] - 28s 109ms/step - loss: 0.3239 - accuracy: 0.8597 - val_loss: -0.0868 - val_accuracy: 0.1175\n",
      "Epoch 18/25\n",
      "252/252 [==============================] - 28s 112ms/step - loss: 0.3128 - accuracy: 0.8653 - val_loss: -0.8062 - val_accuracy: 0.1590\n",
      "Epoch 19/25\n",
      "252/252 [==============================] - 28s 110ms/step - loss: 0.3091 - accuracy: 0.8694 - val_loss: -0.4680 - val_accuracy: 0.1415\n",
      "Epoch 20/25\n",
      "252/252 [==============================] - 28s 109ms/step - loss: 0.2892 - accuracy: 0.8746 - val_loss: -0.4696 - val_accuracy: 0.1300\n",
      "Epoch 21/25\n",
      "252/252 [==============================] - 28s 112ms/step - loss: 0.2727 - accuracy: 0.8838 - val_loss: -0.3626 - val_accuracy: 0.1250\n",
      "Epoch 22/25\n",
      "252/252 [==============================] - 28s 111ms/step - loss: 0.2709 - accuracy: 0.8844 - val_loss: -0.8204 - val_accuracy: 0.1550\n",
      "Epoch 23/25\n",
      "252/252 [==============================] - 27s 109ms/step - loss: 0.2553 - accuracy: 0.8933 - val_loss: 0.2661 - val_accuracy: 0.1000\n",
      "Epoch 24/25\n",
      "252/252 [==============================] - 28s 112ms/step - loss: 0.2438 - accuracy: 0.8999 - val_loss: 0.0116 - val_accuracy: 0.1065\n",
      "Epoch 25/25\n",
      "252/252 [==============================] - 28s 110ms/step - loss: 0.2313 - accuracy: 0.9038 - val_loss: -0.1353 - val_accuracy: 0.1060\n"
     ]
    },
    {
     "data": {
      "image/png": "[encoded data removed]",
      "text/plain": [
       "<IPython.core.display.Image object>"
      ]
     },
     "execution_count": 32,
     "metadata": {},
     "output_type": "execute_result"
    }
   ],
   "source": [
    "cnn.compile(optimizer = 'adam', loss = 'binary_crossentropy', metrics = ['accuracy'])\n",
    "cnn.fit(x = trainingData, validation_data = testData, epochs = 25)\n",
    "tf.keras.utils.plot_model(cnn, show_shapes=True, show_layer_names=True)"
   ]
  },
  {
   "cell_type": "markdown",
   "id": "c77bba8f-f509-4fa7-bf8a-c8ec2c96a532",
   "metadata": {
    "tags": []
   },
   "source": [
    "<br></br>\n",
    "***\n",
    "## Prediction"
   ]
  },
  {
   "cell_type": "code",
   "execution_count": 94,
   "id": "7c4812b7-5454-42df-8c31-19b208095bb2",
   "metadata": {
    "tags": []
   },
   "outputs": [
    {
     "name": "stdout",
     "output_type": "stream",
     "text": [
      "Analysing images ..\n",
      "1/1 [==============================] - 0s 17ms/step\n",
      "1/1 [==============================] - 0s 19ms/step\n",
      "1/1 [==============================] - 0s 19ms/step\n",
      "1/1 [==============================] - 0s 19ms/step\n",
      "1/1 [==============================] - 0s 18ms/step\n",
      "1/1 [==============================] - 0s 18ms/step\n",
      "1/1 [==============================] - 0s 19ms/step\n",
      "1/1 [==============================] - 0s 19ms/step\n",
      "1/1 [==============================] - 0s 18ms/step\n",
      "1/1 [==============================] - 0s 18ms/step\n",
      "1/1 [==============================] - 0s 18ms/step\n",
      "\n",
      "\n"
     ]
    },
    {
     "data": {
      "text/html": [
       "<table><tr><th>Image</th><th>Animal</th><th>Confidence</th></tr><tr><td><img src=\"dataset\\single_prediction\\Casper.png\" style=\"width: 200px;\"></td><td>cat</td></td><td>70.07%</td></tr><tr><td><img src=\"dataset\\single_prediction\\CatDog.png\" style=\"width: 200px;\"></td><td>cat</td></td><td>96.50%</td></tr><tr><td><img src=\"dataset\\single_prediction\\CatDogFlipped.png\" style=\"width: 200px;\"></td><td>cat</td></td><td>98.31%</td></tr><tr><td><img src=\"dataset\\single_prediction\\cat_or_dog_1.jpg\" style=\"width: 200px;\"></td><td>dog</td></td><td>100.00%</td></tr><tr><td><img src=\"dataset\\single_prediction\\cat_or_dog_2.jpg\" style=\"width: 200px;\"></td><td>cat</td></td><td>70.72%</td></tr><tr><td><img src=\"dataset\\single_prediction\\GoodBoy.png\" style=\"width: 200px;\"></td><td>dog</td></td><td>99.93%</td></tr><tr><td><img src=\"dataset\\single_prediction\\GoodKitty.png\" style=\"width: 200px;\"></td><td>dog</td></td><td>93.86%</td></tr><tr><td><img src=\"dataset\\single_prediction\\Nori.png\" style=\"width: 200px;\"></td><td>cat</td></td><td>92.41%</td></tr><tr><td><img src=\"dataset\\single_prediction\\Sammy.png\" style=\"width: 200px;\"></td><td>dog</td></td><td>100.00%</td></tr><tr><td><img src=\"dataset\\single_prediction\\SleepyEyedNori.png\" style=\"width: 200px;\"></td><td>cat</td></td><td>85.49%</td></tr><tr><td><img src=\"dataset\\single_prediction\\Sphynx.png\" style=\"width: 200px;\"></td><td>cat</td></td><td>99.15%</td></tr></table>"
      ],
      "text/plain": [
       "<IPython.core.display.HTML object>"
      ]
     },
     "metadata": {},
     "output_type": "display_data"
    }
   ],
   "source": [
    "def ClassifyInputList(imageList):\n",
    "    results = []\n",
    "    \n",
    "    indexToClassDict = {}\n",
    "    for className, index in trainingData.class_indices.items():\n",
    "        indexToClassDict[index] = className\n",
    "    \n",
    "    for fileName in imageList:\n",
    "        # Load test image and resize\n",
    "        testImage = tf.keras.utils.load_img(fileName, target_size = (width, height))\n",
    "        \n",
    "        # Convert to numpy array\n",
    "        testImage = tf.keras.utils.img_to_array(testImage)\n",
    "        testImage /= 255.0\n",
    "        testImage.shape\n",
    "        \n",
    "        # Expand the input array to match the shape expected by the network.\n",
    "        # Adds a 'batch' dimension as the network expects input in the shape (batch_size, height, width, channels)\n",
    "        testImage = np.expand_dims(testImage, axis = 0)\n",
    "        testImage.shape\n",
    "        \n",
    "        result = cnn.predict(testImage)\n",
    "        \n",
    "        probability = result[0][0]\n",
    "        confidence = 0.0\n",
    "        if probability > 0.5:\n",
    "            animal = indexToClassDict[1]\n",
    "            confidence = probability*100.0\n",
    "        else:\n",
    "            animal = indexToClassDict[0]\n",
    "            confidence = (1-probability)*100.0\n",
    "        \n",
    "        #print(f\"File name: {fileName} Predicted class: {animal}  Confidence:{confidence:.2f} %\")\n",
    "        results.append([fileName, animal, confidence])\n",
    "    \n",
    "    return results\n",
    "\n",
    "def DisplayResults(results):\n",
    "    tableHtml = '<table>'\n",
    "    tableHtml += '<tr><th>Image</th><th>Animal</th><th>Confidence</th></tr>'\n",
    "    \n",
    "    # Iterate over the list of images and strings\n",
    "    for imagePath, animal, confidence in results:\n",
    "        tableHtml += f'<tr><td><img src=\"{imagePath}\" style=\"width: 200px;\"></td><td>{animal}</td></td><td>{confidence:.2f}%</td></tr>'\n",
    "    \n",
    "    tableHtml += '</table>'\n",
    "    \n",
    "    display(HTML(tableHtml))\n",
    "            \n",
    "\n",
    "# Scan the 'single_prediction' directory for test images\n",
    "directory = Path('dataset/single_prediction')\n",
    "fileList = [str(file) for file in directory.iterdir() if file.is_file()]\n",
    "\n",
    "# Filter files by specific file types\n",
    "supportedFileTypes = ['.jpg', '.jpeg', '.png', '.bmp', '.gif', '.tiff', '.tif', '.ico', '.pbm', '.pgm', '.ppm']\n",
    "imageList = [file for file in fileList if any(file.endswith(fileType) for fileType in supportedFileTypes)]\n",
    "\n",
    "print(\"Analysing images ..\")\n",
    "results = ClassifyInputList(imageList)\n",
    "print(\"\\n\")\n",
    "\n",
    "DisplayResults(results)\n"
   ]
  },
  {
   "cell_type": "code",
   "execution_count": null,
   "id": "09eef213-2a61-44df-8d73-56be28f48634",
   "metadata": {},
   "outputs": [],
   "source": []
  }
 ],
 "metadata": {
  "kernelspec": {
   "display_name": "Python 3 (ipykernel)",
   "language": "python",
   "name": "python3"
  },
  "language_info": {
   "codemirror_mode": {
    "name": "ipython",
    "version": 3
   },
   "file_extension": ".py",
   "mimetype": "text/x-python",
   "name": "python",
   "nbconvert_exporter": "python",
   "pygments_lexer": "ipython3",
   "version": "3.10.13"
  }
 },
 "nbformat": 4,
 "nbformat_minor": 5
}
