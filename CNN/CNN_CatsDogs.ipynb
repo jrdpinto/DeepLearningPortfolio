{
 "cells": [
  {
   "cell_type": "markdown",
   "id": "a8ac0f00-3a7e-49aa-951c-513852ad6f8b",
   "metadata": {
    "colab_type": "text",
    "id": "lP6JLo1tGNBg",
    "tags": []
   },
   "source": [
    "# Convolutional Neural Network"
   ]
  },
  {
   "cell_type": "markdown",
   "id": "e24cddec-e013-4503-a919-933532e98225",
   "metadata": {},
   "source": [
    "A simple CNN built using data from a course on Udemy called [Deep Learning A-Z](https://www.udemy.com/course/deeplearning/learn/lecture/20260978). "
   ]
  },
  {
   "cell_type": "code",
   "execution_count": null,
   "id": "26506c43-5da5-48b5-93e7-5107d14a97c9",
   "metadata": {},
   "outputs": [],
   "source": []
  }
 ],
 "metadata": {
  "kernelspec": {
   "display_name": "Python 3 (ipykernel)",
   "language": "python",
   "name": "python3"
  },
  "language_info": {
   "codemirror_mode": {
    "name": "ipython",
    "version": 3
   },
   "file_extension": ".py",
   "mimetype": "text/x-python",
   "name": "python",
   "nbconvert_exporter": "python",
   "pygments_lexer": "ipython3",
   "version": "3.10.13"
  }
 },
 "nbformat": 4,
 "nbformat_minor": 5
}
